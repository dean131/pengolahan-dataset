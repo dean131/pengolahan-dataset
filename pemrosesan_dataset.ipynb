{
 "cells": [
  {
   "attachments": {},
   "cell_type": "markdown",
   "metadata": {},
   "source": [
    "# **Preprocessing**"
   ]
  },
  {
   "attachments": {},
   "cell_type": "markdown",
   "metadata": {},
   "source": [
    "### **Mengimport Library yang dibutuhkan**"
   ]
  },
  {
   "cell_type": "code",
   "execution_count": 429,
   "metadata": {},
   "outputs": [],
   "source": [
    "import pandas as pd\n",
    "import joblib\n",
    "import matplotlib.pyplot as plt\n",
    "\n",
    "from sklearn.metrics import accuracy_score, classification_report\n",
    "from sklearn.model_selection import train_test_split\n",
    "\n",
    "from sklearn.neighbors import KNeighborsClassifier\n",
    "from sklearn.tree import DecisionTreeClassifier\n",
    "from sklearn.ensemble import RandomForestClassifier\n",
    "from sklearn.naive_bayes import GaussianNB"
   ]
  },
  {
   "attachments": {},
   "cell_type": "markdown",
   "metadata": {},
   "source": [
    "### **Memuat data**"
   ]
  },
  {
   "cell_type": "code",
   "execution_count": 430,
   "metadata": {},
   "outputs": [
    {
     "data": {
      "text/plain": [
       "(2000, 21)"
      ]
     },
     "execution_count": 430,
     "metadata": {},
     "output_type": "execute_result"
    }
   ],
   "source": [
    "# load dataset\n",
    "df = pd.read_csv('train.csv')\n",
    "# menampilkan dimensi dari dataset\n",
    "df.shape\n"
   ]
  },
  {
   "attachments": {},
   "cell_type": "markdown",
   "metadata": {},
   "source": [
    "Dapat dilihat bahwa dataset ini memiliki 2001 entri data dan 21 kolom atribut. Pada deskripsi dataset mobile price, dataset ini memiliki 20 attribut dan 1 class target."
   ]
  },
  {
   "cell_type": "code",
   "execution_count": 431,
   "metadata": {},
   "outputs": [
    {
     "data": {
      "text/html": [
       "<div>\n",
       "<style scoped>\n",
       "    .dataframe tbody tr th:only-of-type {\n",
       "        vertical-align: middle;\n",
       "    }\n",
       "\n",
       "    .dataframe tbody tr th {\n",
       "        vertical-align: top;\n",
       "    }\n",
       "\n",
       "    .dataframe thead th {\n",
       "        text-align: right;\n",
       "    }\n",
       "</style>\n",
       "<table border=\"1\" class=\"dataframe\">\n",
       "  <thead>\n",
       "    <tr style=\"text-align: right;\">\n",
       "      <th></th>\n",
       "      <th>battery_power</th>\n",
       "      <th>blue</th>\n",
       "      <th>clock_speed</th>\n",
       "      <th>dual_sim</th>\n",
       "      <th>fc</th>\n",
       "      <th>four_g</th>\n",
       "      <th>int_memory</th>\n",
       "      <th>m_dep</th>\n",
       "      <th>mobile_wt</th>\n",
       "      <th>n_cores</th>\n",
       "      <th>...</th>\n",
       "      <th>px_height</th>\n",
       "      <th>px_width</th>\n",
       "      <th>ram</th>\n",
       "      <th>sc_h</th>\n",
       "      <th>sc_w</th>\n",
       "      <th>talk_time</th>\n",
       "      <th>three_g</th>\n",
       "      <th>touch_screen</th>\n",
       "      <th>wifi</th>\n",
       "      <th>price_range</th>\n",
       "    </tr>\n",
       "  </thead>\n",
       "  <tbody>\n",
       "    <tr>\n",
       "      <th>0</th>\n",
       "      <td>842</td>\n",
       "      <td>0</td>\n",
       "      <td>2.2</td>\n",
       "      <td>0</td>\n",
       "      <td>1</td>\n",
       "      <td>0</td>\n",
       "      <td>7</td>\n",
       "      <td>0.6</td>\n",
       "      <td>188</td>\n",
       "      <td>2</td>\n",
       "      <td>...</td>\n",
       "      <td>20</td>\n",
       "      <td>756</td>\n",
       "      <td>2549</td>\n",
       "      <td>9</td>\n",
       "      <td>7</td>\n",
       "      <td>19</td>\n",
       "      <td>0</td>\n",
       "      <td>0</td>\n",
       "      <td>1</td>\n",
       "      <td>1</td>\n",
       "    </tr>\n",
       "    <tr>\n",
       "      <th>1</th>\n",
       "      <td>1021</td>\n",
       "      <td>1</td>\n",
       "      <td>0.5</td>\n",
       "      <td>1</td>\n",
       "      <td>0</td>\n",
       "      <td>1</td>\n",
       "      <td>53</td>\n",
       "      <td>0.7</td>\n",
       "      <td>136</td>\n",
       "      <td>3</td>\n",
       "      <td>...</td>\n",
       "      <td>905</td>\n",
       "      <td>1988</td>\n",
       "      <td>2631</td>\n",
       "      <td>17</td>\n",
       "      <td>3</td>\n",
       "      <td>7</td>\n",
       "      <td>1</td>\n",
       "      <td>1</td>\n",
       "      <td>0</td>\n",
       "      <td>2</td>\n",
       "    </tr>\n",
       "    <tr>\n",
       "      <th>2</th>\n",
       "      <td>563</td>\n",
       "      <td>1</td>\n",
       "      <td>0.5</td>\n",
       "      <td>1</td>\n",
       "      <td>2</td>\n",
       "      <td>1</td>\n",
       "      <td>41</td>\n",
       "      <td>0.9</td>\n",
       "      <td>145</td>\n",
       "      <td>5</td>\n",
       "      <td>...</td>\n",
       "      <td>1263</td>\n",
       "      <td>1716</td>\n",
       "      <td>2603</td>\n",
       "      <td>11</td>\n",
       "      <td>2</td>\n",
       "      <td>9</td>\n",
       "      <td>1</td>\n",
       "      <td>1</td>\n",
       "      <td>0</td>\n",
       "      <td>2</td>\n",
       "    </tr>\n",
       "    <tr>\n",
       "      <th>3</th>\n",
       "      <td>615</td>\n",
       "      <td>1</td>\n",
       "      <td>2.5</td>\n",
       "      <td>0</td>\n",
       "      <td>0</td>\n",
       "      <td>0</td>\n",
       "      <td>10</td>\n",
       "      <td>0.8</td>\n",
       "      <td>131</td>\n",
       "      <td>6</td>\n",
       "      <td>...</td>\n",
       "      <td>1216</td>\n",
       "      <td>1786</td>\n",
       "      <td>2769</td>\n",
       "      <td>16</td>\n",
       "      <td>8</td>\n",
       "      <td>11</td>\n",
       "      <td>1</td>\n",
       "      <td>0</td>\n",
       "      <td>0</td>\n",
       "      <td>2</td>\n",
       "    </tr>\n",
       "    <tr>\n",
       "      <th>4</th>\n",
       "      <td>1821</td>\n",
       "      <td>1</td>\n",
       "      <td>1.2</td>\n",
       "      <td>0</td>\n",
       "      <td>13</td>\n",
       "      <td>1</td>\n",
       "      <td>44</td>\n",
       "      <td>0.6</td>\n",
       "      <td>141</td>\n",
       "      <td>2</td>\n",
       "      <td>...</td>\n",
       "      <td>1208</td>\n",
       "      <td>1212</td>\n",
       "      <td>1411</td>\n",
       "      <td>8</td>\n",
       "      <td>2</td>\n",
       "      <td>15</td>\n",
       "      <td>1</td>\n",
       "      <td>1</td>\n",
       "      <td>0</td>\n",
       "      <td>1</td>\n",
       "    </tr>\n",
       "  </tbody>\n",
       "</table>\n",
       "<p>5 rows × 21 columns</p>\n",
       "</div>"
      ],
      "text/plain": [
       "   battery_power  blue  clock_speed  dual_sim  fc  four_g  int_memory  m_dep   \n",
       "0            842     0          2.2         0   1       0           7    0.6  \\\n",
       "1           1021     1          0.5         1   0       1          53    0.7   \n",
       "2            563     1          0.5         1   2       1          41    0.9   \n",
       "3            615     1          2.5         0   0       0          10    0.8   \n",
       "4           1821     1          1.2         0  13       1          44    0.6   \n",
       "\n",
       "   mobile_wt  n_cores  ...  px_height  px_width   ram  sc_h  sc_w  talk_time   \n",
       "0        188        2  ...         20       756  2549     9     7         19  \\\n",
       "1        136        3  ...        905      1988  2631    17     3          7   \n",
       "2        145        5  ...       1263      1716  2603    11     2          9   \n",
       "3        131        6  ...       1216      1786  2769    16     8         11   \n",
       "4        141        2  ...       1208      1212  1411     8     2         15   \n",
       "\n",
       "   three_g  touch_screen  wifi  price_range  \n",
       "0        0             0     1            1  \n",
       "1        1             1     0            2  \n",
       "2        1             1     0            2  \n",
       "3        1             0     0            2  \n",
       "4        1             1     0            1  \n",
       "\n",
       "[5 rows x 21 columns]"
      ]
     },
     "execution_count": 431,
     "metadata": {},
     "output_type": "execute_result"
    }
   ],
   "source": [
    "# menampilkan preview data\n",
    "df.head()"
   ]
  },
  {
   "attachments": {},
   "cell_type": "markdown",
   "metadata": {},
   "source": [
    "### **Melihat Value dari Target Class**\n",
    "pada dataset ini, 'price_range' merupakan target class. sekarang saya akan melihat apa saja isi dari target class tersebut"
   ]
  },
  {
   "cell_type": "code",
   "execution_count": 432,
   "metadata": {},
   "outputs": [
    {
     "data": {
      "text/plain": [
       "array([1, 2, 3, 0], dtype=int64)"
      ]
     },
     "execution_count": 432,
     "metadata": {},
     "output_type": "execute_result"
    }
   ],
   "source": [
    "# melihat unique value target class\n",
    "df['price_range'].unique()"
   ]
  },
  {
   "attachments": {},
   "cell_type": "markdown",
   "metadata": {},
   "source": [
    "'price_range' memiliki 4 value yaitu berupa angka 0 sampai dengan 3. Dari deskripsi pada dataset ini, berikut maksud dari 4 value class target tersebut:\n",
    "\n",
    "- Class 0: Harga paling rendah\n",
    "- Class 1: Harga sedang\n",
    "- Class 2: Harga sedikit lebih mahal\n",
    "- Class 3: Harga paling mahal"
   ]
  },
  {
   "attachments": {},
   "cell_type": "markdown",
   "metadata": {},
   "source": [
    "### **Memilih fitur**"
   ]
  },
  {
   "cell_type": "code",
   "execution_count": 433,
   "metadata": {},
   "outputs": [
    {
     "data": {
      "text/plain": [
       "Index(['battery_power', 'blue', 'clock_speed', 'dual_sim', 'fc', 'four_g',\n",
       "       'int_memory', 'm_dep', 'mobile_wt', 'n_cores', 'pc', 'px_height',\n",
       "       'px_width', 'ram', 'sc_h', 'sc_w', 'talk_time', 'three_g',\n",
       "       'touch_screen', 'wifi', 'price_range'],\n",
       "      dtype='object')"
      ]
     },
     "execution_count": 433,
     "metadata": {},
     "output_type": "execute_result"
    }
   ],
   "source": [
    "# menampilkan kolom-kolom yang ada\n",
    "df.columns"
   ]
  },
  {
   "attachments": {},
   "cell_type": "markdown",
   "metadata": {},
   "source": [
    "Disini saya akan menggunakan semua fitur yang ada"
   ]
  },
  {
   "attachments": {},
   "cell_type": "markdown",
   "metadata": {},
   "source": [
    "### **Menangani nilai yang hilang**"
   ]
  },
  {
   "cell_type": "code",
   "execution_count": 434,
   "metadata": {},
   "outputs": [
    {
     "data": {
      "text/plain": [
       "battery_power    0\n",
       "blue             0\n",
       "clock_speed      0\n",
       "dual_sim         0\n",
       "fc               0\n",
       "four_g           0\n",
       "int_memory       0\n",
       "m_dep            0\n",
       "mobile_wt        0\n",
       "n_cores          0\n",
       "pc               0\n",
       "px_height        0\n",
       "px_width         0\n",
       "ram              0\n",
       "sc_h             0\n",
       "sc_w             0\n",
       "talk_time        0\n",
       "three_g          0\n",
       "touch_screen     0\n",
       "wifi             0\n",
       "price_range      0\n",
       "dtype: int64"
      ]
     },
     "execution_count": 434,
     "metadata": {},
     "output_type": "execute_result"
    }
   ],
   "source": [
    "# mencek dataset apakah ada data yang hilang\n",
    "df.isnull().sum()"
   ]
  },
  {
   "attachments": {},
   "cell_type": "markdown",
   "metadata": {},
   "source": [
    "Terlihat disini bahwa dataset yang digunakan tidak memiliki missing value. Jadi tidak perlu untuk ditindak lanjuti."
   ]
  },
  {
   "attachments": {},
   "cell_type": "markdown",
   "metadata": {},
   "source": [
    "### **Menghapus data yang tidak relevan**\n",
    "Semua data yang ada berpengaruh dalam proses prediksi alias semua data sudah relevan dan tidak perlu menghapus apapun "
   ]
  },
  {
   "attachments": {},
   "cell_type": "markdown",
   "metadata": {},
   "source": [
    "### **Mengubah data kategorikal menjadi numerik**"
   ]
  },
  {
   "cell_type": "code",
   "execution_count": 435,
   "metadata": {},
   "outputs": [
    {
     "data": {
      "text/plain": [
       "battery_power      int64\n",
       "blue               int64\n",
       "clock_speed      float64\n",
       "dual_sim           int64\n",
       "fc                 int64\n",
       "four_g             int64\n",
       "int_memory         int64\n",
       "m_dep            float64\n",
       "mobile_wt          int64\n",
       "n_cores            int64\n",
       "pc                 int64\n",
       "px_height          int64\n",
       "px_width           int64\n",
       "ram                int64\n",
       "sc_h               int64\n",
       "sc_w               int64\n",
       "talk_time          int64\n",
       "three_g            int64\n",
       "touch_screen       int64\n",
       "wifi               int64\n",
       "price_range        int64\n",
       "dtype: object"
      ]
     },
     "execution_count": 435,
     "metadata": {},
     "output_type": "execute_result"
    }
   ],
   "source": [
    "# cek tipe data dari data frame yang kita punya \n",
    "df.dtypes"
   ]
  },
  {
   "attachments": {},
   "cell_type": "markdown",
   "metadata": {},
   "source": [
    "Semua data sudah merupakan tipe data numerik yang terdiri dari tipe data Integer dan Float. Jadi tidak memerlukan konversi tipe data"
   ]
  },
  {
   "attachments": {},
   "cell_type": "markdown",
   "metadata": {},
   "source": [
    "### **Membuat variabel atribut/fitur dan variabel target class¶**\n",
    "Setelah eksplorasi data selesai, saatnya untuk memulai membuat model. Langkah pertama, saya membuat variabel khusus untuk dataframe yang berisi atribut/fitur dan target class"
   ]
  },
  {
   "cell_type": "code",
   "execution_count": 436,
   "metadata": {},
   "outputs": [],
   "source": [
    "# membuang kolom 'price_range' dari dataframe\n",
    "X = df.drop(['price_range'], axis=1) \n",
    "# hanya mengambil kolom 'price_range' dari dataframe\n",
    "y = df['price_range']"
   ]
  },
  {
   "attachments": {},
   "cell_type": "markdown",
   "metadata": {},
   "source": [
    "### **Memisahkan data menjadi set pelatihan dan pengujian**"
   ]
  },
  {
   "cell_type": "code",
   "execution_count": 437,
   "metadata": {},
   "outputs": [],
   "source": [
    "# Membuat data training dan data testing\n",
    "X_train, X_test, y_train, y_test = train_test_split(X, y, test_size=0.25)"
   ]
  },
  {
   "attachments": {},
   "cell_type": "markdown",
   "metadata": {},
   "source": [
    "Saya memisahkan data traning dan data testing dengan rasio 75:25"
   ]
  },
  {
   "cell_type": "code",
   "execution_count": 438,
   "metadata": {},
   "outputs": [
    {
     "data": {
      "text/plain": [
       "((1500, 20), (500, 20))"
      ]
     },
     "execution_count": 438,
     "metadata": {},
     "output_type": "execute_result"
    }
   ],
   "source": [
    "# cek bentuk dari X_train and X_test\n",
    "X_train.shape, X_test.shape"
   ]
  },
  {
   "attachments": {},
   "cell_type": "markdown",
   "metadata": {},
   "source": [
    "## **Training Menggunakan KNN**"
   ]
  },
  {
   "cell_type": "code",
   "execution_count": 439,
   "metadata": {},
   "outputs": [
    {
     "data": {
      "text/html": [
       "<style>#sk-container-id-51 {color: black;background-color: white;}#sk-container-id-51 pre{padding: 0;}#sk-container-id-51 div.sk-toggleable {background-color: white;}#sk-container-id-51 label.sk-toggleable__label {cursor: pointer;display: block;width: 100%;margin-bottom: 0;padding: 0.3em;box-sizing: border-box;text-align: center;}#sk-container-id-51 label.sk-toggleable__label-arrow:before {content: \"▸\";float: left;margin-right: 0.25em;color: #696969;}#sk-container-id-51 label.sk-toggleable__label-arrow:hover:before {color: black;}#sk-container-id-51 div.sk-estimator:hover label.sk-toggleable__label-arrow:before {color: black;}#sk-container-id-51 div.sk-toggleable__content {max-height: 0;max-width: 0;overflow: hidden;text-align: left;background-color: #f0f8ff;}#sk-container-id-51 div.sk-toggleable__content pre {margin: 0.2em;color: black;border-radius: 0.25em;background-color: #f0f8ff;}#sk-container-id-51 input.sk-toggleable__control:checked~div.sk-toggleable__content {max-height: 200px;max-width: 100%;overflow: auto;}#sk-container-id-51 input.sk-toggleable__control:checked~label.sk-toggleable__label-arrow:before {content: \"▾\";}#sk-container-id-51 div.sk-estimator input.sk-toggleable__control:checked~label.sk-toggleable__label {background-color: #d4ebff;}#sk-container-id-51 div.sk-label input.sk-toggleable__control:checked~label.sk-toggleable__label {background-color: #d4ebff;}#sk-container-id-51 input.sk-hidden--visually {border: 0;clip: rect(1px 1px 1px 1px);clip: rect(1px, 1px, 1px, 1px);height: 1px;margin: -1px;overflow: hidden;padding: 0;position: absolute;width: 1px;}#sk-container-id-51 div.sk-estimator {font-family: monospace;background-color: #f0f8ff;border: 1px dotted black;border-radius: 0.25em;box-sizing: border-box;margin-bottom: 0.5em;}#sk-container-id-51 div.sk-estimator:hover {background-color: #d4ebff;}#sk-container-id-51 div.sk-parallel-item::after {content: \"\";width: 100%;border-bottom: 1px solid gray;flex-grow: 1;}#sk-container-id-51 div.sk-label:hover label.sk-toggleable__label {background-color: #d4ebff;}#sk-container-id-51 div.sk-serial::before {content: \"\";position: absolute;border-left: 1px solid gray;box-sizing: border-box;top: 0;bottom: 0;left: 50%;z-index: 0;}#sk-container-id-51 div.sk-serial {display: flex;flex-direction: column;align-items: center;background-color: white;padding-right: 0.2em;padding-left: 0.2em;position: relative;}#sk-container-id-51 div.sk-item {position: relative;z-index: 1;}#sk-container-id-51 div.sk-parallel {display: flex;align-items: stretch;justify-content: center;background-color: white;position: relative;}#sk-container-id-51 div.sk-item::before, #sk-container-id-51 div.sk-parallel-item::before {content: \"\";position: absolute;border-left: 1px solid gray;box-sizing: border-box;top: 0;bottom: 0;left: 50%;z-index: -1;}#sk-container-id-51 div.sk-parallel-item {display: flex;flex-direction: column;z-index: 1;position: relative;background-color: white;}#sk-container-id-51 div.sk-parallel-item:first-child::after {align-self: flex-end;width: 50%;}#sk-container-id-51 div.sk-parallel-item:last-child::after {align-self: flex-start;width: 50%;}#sk-container-id-51 div.sk-parallel-item:only-child::after {width: 0;}#sk-container-id-51 div.sk-dashed-wrapped {border: 1px dashed gray;margin: 0 0.4em 0.5em 0.4em;box-sizing: border-box;padding-bottom: 0.4em;background-color: white;}#sk-container-id-51 div.sk-label label {font-family: monospace;font-weight: bold;display: inline-block;line-height: 1.2em;}#sk-container-id-51 div.sk-label-container {text-align: center;}#sk-container-id-51 div.sk-container {/* jupyter's `normalize.less` sets `[hidden] { display: none; }` but bootstrap.min.css set `[hidden] { display: none !important; }` so we also need the `!important` here to be able to override the default hidden behavior on the sphinx rendered scikit-learn.org. See: https://github.com/scikit-learn/scikit-learn/issues/21755 */display: inline-block !important;position: relative;}#sk-container-id-51 div.sk-text-repr-fallback {display: none;}</style><div id=\"sk-container-id-51\" class=\"sk-top-container\"><div class=\"sk-text-repr-fallback\"><pre>KNeighborsClassifier()</pre><b>In a Jupyter environment, please rerun this cell to show the HTML representation or trust the notebook. <br />On GitHub, the HTML representation is unable to render, please try loading this page with nbviewer.org.</b></div><div class=\"sk-container\" hidden><div class=\"sk-item\"><div class=\"sk-estimator sk-toggleable\"><input class=\"sk-toggleable__control sk-hidden--visually\" id=\"sk-estimator-id-51\" type=\"checkbox\" checked><label for=\"sk-estimator-id-51\" class=\"sk-toggleable__label sk-toggleable__label-arrow\">KNeighborsClassifier</label><div class=\"sk-toggleable__content\"><pre>KNeighborsClassifier()</pre></div></div></div></div></div>"
      ],
      "text/plain": [
       "KNeighborsClassifier()"
      ]
     },
     "execution_count": 439,
     "metadata": {},
     "output_type": "execute_result"
    }
   ],
   "source": [
    "# Menentukan nilai k\n",
    "k = 5\n",
    "# Membuat kNN model\n",
    "model = KNeighborsClassifier(n_neighbors=k)\n",
    "# Melatih model dengan data training\n",
    "model.fit(X_train, y_train)"
   ]
  },
  {
   "cell_type": "code",
   "execution_count": 440,
   "metadata": {},
   "outputs": [
    {
     "data": {
      "text/plain": [
       "array([1, 1, 2, 1, 0, 0, 0, 1, 1, 0, 3, 3, 3, 0, 1, 0, 0, 1, 3, 0, 2, 1,\n",
       "       0, 3, 2, 1, 0, 2, 0, 2, 1, 3, 0, 2, 1, 3, 1, 1, 2, 1, 2, 1, 1, 3,\n",
       "       2, 2, 3, 0, 0, 3, 3, 3, 1, 2, 1, 1, 0, 0, 2, 0, 0, 0, 1, 2, 1, 2,\n",
       "       2, 2, 0, 0, 3, 0, 0, 3, 0, 2, 2, 3, 1, 1, 2, 3, 3, 1, 0, 1, 1, 3,\n",
       "       3, 1, 1, 0, 2, 2, 0, 3, 2, 3, 0, 0, 1, 0, 0, 1, 1, 2, 1, 2, 1, 0,\n",
       "       3, 1, 1, 0, 3, 2, 2, 3, 0, 1, 0, 0, 0, 2, 0, 2, 2, 1, 2, 2, 1, 0,\n",
       "       3, 0, 3, 1, 1, 1, 0, 2, 3, 0, 2, 0, 0, 3, 1, 1, 1, 2, 0, 1, 2, 2,\n",
       "       2, 2, 1, 1, 2, 0, 0, 3, 2, 0, 0, 0, 2, 1, 2, 3, 0, 1, 3, 1, 0, 1,\n",
       "       2, 0, 0, 0, 0, 0, 0, 0, 2, 2, 2, 1, 2, 2, 3, 2, 2, 2, 3, 2, 2, 3,\n",
       "       1, 2, 3, 1, 2, 2, 1, 3, 3, 2, 2, 0, 3, 3, 2, 3, 2, 2, 3, 2, 1, 2,\n",
       "       3, 3, 2, 1, 0, 0, 1, 1, 0, 1, 2, 0, 2, 2, 0, 2, 3, 2, 2, 3, 1, 3,\n",
       "       0, 0, 3, 2, 0, 3, 2, 3, 0, 1, 1, 3, 3, 3, 0, 2, 1, 3, 1, 3, 0, 3,\n",
       "       2, 2, 3, 0, 3, 3, 0, 0, 1, 0, 0, 2, 2, 2, 2, 3, 3, 0, 1, 2, 1, 3,\n",
       "       0, 1, 2, 0, 1, 0, 1, 1, 2, 2, 1, 2, 0, 2, 2, 0, 2, 0, 1, 0, 3, 3,\n",
       "       0, 3, 3, 1, 1, 2, 3, 3, 1, 1, 2, 1, 1, 1, 0, 1, 0, 1, 3, 3, 1, 1,\n",
       "       1, 1, 1, 0, 2, 1, 1, 0, 0, 1, 2, 2, 2, 3, 3, 2, 0, 2, 3, 1, 0, 1,\n",
       "       1, 1, 2, 2, 1, 2, 3, 3, 2, 1, 1, 2, 2, 0, 3, 0, 0, 3, 1, 3, 0, 3,\n",
       "       1, 1, 3, 2, 3, 0, 1, 0, 1, 2, 0, 0, 0, 0, 2, 3, 3, 3, 3, 0, 2, 1,\n",
       "       3, 2, 0, 1, 3, 1, 3, 2, 0, 1, 1, 1, 0, 2, 1, 3, 3, 2, 2, 1, 1, 0,\n",
       "       3, 2, 1, 2, 1, 1, 1, 2, 2, 3, 3, 3, 0, 3, 1, 1, 3, 2, 2, 2, 3, 2,\n",
       "       2, 3, 3, 2, 3, 1, 1, 2, 3, 1, 3, 2, 0, 3, 1, 3, 3, 0, 2, 2, 2, 1,\n",
       "       2, 0, 3, 0, 3, 3, 3, 3, 1, 3, 1, 0, 1, 3, 3, 0, 1, 0, 2, 0, 1, 0,\n",
       "       0, 3, 2, 1, 1, 2, 3, 2, 2, 3, 3, 2, 1, 0, 1, 2], dtype=int64)"
      ]
     },
     "execution_count": 440,
     "metadata": {},
     "output_type": "execute_result"
    }
   ],
   "source": [
    "# Melakukan prediksi class menggunakan atribut di data testing\n",
    "y_pred = model.predict(X_test)\n",
    "y_pred"
   ]
  },
  {
   "cell_type": "code",
   "execution_count": 441,
   "metadata": {},
   "outputs": [
    {
     "name": "stdout",
     "output_type": "stream",
     "text": [
      "Akurasi Model : 91.4 %.\n"
     ]
    }
   ],
   "source": [
    "# mengecek akurasi prediksi\n",
    "acc_knn = accuracy_score(y_pred, y_test)*100\n",
    "print('Akurasi Model : ' + str(round(acc_knn, 2)) + ' %.')"
   ]
  },
  {
   "cell_type": "code",
   "execution_count": 442,
   "metadata": {},
   "outputs": [
    {
     "name": "stdout",
     "output_type": "stream",
     "text": [
      "              precision    recall  f1-score   support\n",
      "\n",
      "           0       0.96      0.94      0.95       119\n",
      "           1       0.90      0.92      0.91       132\n",
      "           2       0.92      0.84      0.88       133\n",
      "           3       0.88      0.97      0.92       116\n",
      "\n",
      "    accuracy                           0.91       500\n",
      "   macro avg       0.92      0.92      0.91       500\n",
      "weighted avg       0.92      0.91      0.91       500\n",
      "\n"
     ]
    }
   ],
   "source": [
    "# report keseluruhan\n",
    "report = classification_report(y_pred, y_test)\n",
    "print(report)"
   ]
  },
  {
   "cell_type": "code",
   "execution_count": 443,
   "metadata": {},
   "outputs": [
    {
     "data": {
      "text/plain": [
       "['model_knn.pkl']"
      ]
     },
     "execution_count": 443,
     "metadata": {},
     "output_type": "execute_result"
    }
   ],
   "source": [
    "# save Model\n",
    "joblib.dump(model, 'model_knn.pkl')"
   ]
  },
  {
   "attachments": {},
   "cell_type": "markdown",
   "metadata": {},
   "source": [
    "## **Training Menggunakan Naive Bayes**"
   ]
  },
  {
   "cell_type": "code",
   "execution_count": 444,
   "metadata": {},
   "outputs": [
    {
     "data": {
      "text/html": [
       "<style>#sk-container-id-52 {color: black;background-color: white;}#sk-container-id-52 pre{padding: 0;}#sk-container-id-52 div.sk-toggleable {background-color: white;}#sk-container-id-52 label.sk-toggleable__label {cursor: pointer;display: block;width: 100%;margin-bottom: 0;padding: 0.3em;box-sizing: border-box;text-align: center;}#sk-container-id-52 label.sk-toggleable__label-arrow:before {content: \"▸\";float: left;margin-right: 0.25em;color: #696969;}#sk-container-id-52 label.sk-toggleable__label-arrow:hover:before {color: black;}#sk-container-id-52 div.sk-estimator:hover label.sk-toggleable__label-arrow:before {color: black;}#sk-container-id-52 div.sk-toggleable__content {max-height: 0;max-width: 0;overflow: hidden;text-align: left;background-color: #f0f8ff;}#sk-container-id-52 div.sk-toggleable__content pre {margin: 0.2em;color: black;border-radius: 0.25em;background-color: #f0f8ff;}#sk-container-id-52 input.sk-toggleable__control:checked~div.sk-toggleable__content {max-height: 200px;max-width: 100%;overflow: auto;}#sk-container-id-52 input.sk-toggleable__control:checked~label.sk-toggleable__label-arrow:before {content: \"▾\";}#sk-container-id-52 div.sk-estimator input.sk-toggleable__control:checked~label.sk-toggleable__label {background-color: #d4ebff;}#sk-container-id-52 div.sk-label input.sk-toggleable__control:checked~label.sk-toggleable__label {background-color: #d4ebff;}#sk-container-id-52 input.sk-hidden--visually {border: 0;clip: rect(1px 1px 1px 1px);clip: rect(1px, 1px, 1px, 1px);height: 1px;margin: -1px;overflow: hidden;padding: 0;position: absolute;width: 1px;}#sk-container-id-52 div.sk-estimator {font-family: monospace;background-color: #f0f8ff;border: 1px dotted black;border-radius: 0.25em;box-sizing: border-box;margin-bottom: 0.5em;}#sk-container-id-52 div.sk-estimator:hover {background-color: #d4ebff;}#sk-container-id-52 div.sk-parallel-item::after {content: \"\";width: 100%;border-bottom: 1px solid gray;flex-grow: 1;}#sk-container-id-52 div.sk-label:hover label.sk-toggleable__label {background-color: #d4ebff;}#sk-container-id-52 div.sk-serial::before {content: \"\";position: absolute;border-left: 1px solid gray;box-sizing: border-box;top: 0;bottom: 0;left: 50%;z-index: 0;}#sk-container-id-52 div.sk-serial {display: flex;flex-direction: column;align-items: center;background-color: white;padding-right: 0.2em;padding-left: 0.2em;position: relative;}#sk-container-id-52 div.sk-item {position: relative;z-index: 1;}#sk-container-id-52 div.sk-parallel {display: flex;align-items: stretch;justify-content: center;background-color: white;position: relative;}#sk-container-id-52 div.sk-item::before, #sk-container-id-52 div.sk-parallel-item::before {content: \"\";position: absolute;border-left: 1px solid gray;box-sizing: border-box;top: 0;bottom: 0;left: 50%;z-index: -1;}#sk-container-id-52 div.sk-parallel-item {display: flex;flex-direction: column;z-index: 1;position: relative;background-color: white;}#sk-container-id-52 div.sk-parallel-item:first-child::after {align-self: flex-end;width: 50%;}#sk-container-id-52 div.sk-parallel-item:last-child::after {align-self: flex-start;width: 50%;}#sk-container-id-52 div.sk-parallel-item:only-child::after {width: 0;}#sk-container-id-52 div.sk-dashed-wrapped {border: 1px dashed gray;margin: 0 0.4em 0.5em 0.4em;box-sizing: border-box;padding-bottom: 0.4em;background-color: white;}#sk-container-id-52 div.sk-label label {font-family: monospace;font-weight: bold;display: inline-block;line-height: 1.2em;}#sk-container-id-52 div.sk-label-container {text-align: center;}#sk-container-id-52 div.sk-container {/* jupyter's `normalize.less` sets `[hidden] { display: none; }` but bootstrap.min.css set `[hidden] { display: none !important; }` so we also need the `!important` here to be able to override the default hidden behavior on the sphinx rendered scikit-learn.org. See: https://github.com/scikit-learn/scikit-learn/issues/21755 */display: inline-block !important;position: relative;}#sk-container-id-52 div.sk-text-repr-fallback {display: none;}</style><div id=\"sk-container-id-52\" class=\"sk-top-container\"><div class=\"sk-text-repr-fallback\"><pre>GaussianNB()</pre><b>In a Jupyter environment, please rerun this cell to show the HTML representation or trust the notebook. <br />On GitHub, the HTML representation is unable to render, please try loading this page with nbviewer.org.</b></div><div class=\"sk-container\" hidden><div class=\"sk-item\"><div class=\"sk-estimator sk-toggleable\"><input class=\"sk-toggleable__control sk-hidden--visually\" id=\"sk-estimator-id-52\" type=\"checkbox\" checked><label for=\"sk-estimator-id-52\" class=\"sk-toggleable__label sk-toggleable__label-arrow\">GaussianNB</label><div class=\"sk-toggleable__content\"><pre>GaussianNB()</pre></div></div></div></div></div>"
      ],
      "text/plain": [
       "GaussianNB()"
      ]
     },
     "execution_count": 444,
     "metadata": {},
     "output_type": "execute_result"
    }
   ],
   "source": [
    "# Membuat naive bayes model\n",
    "model = GaussianNB()\n",
    "# Melatih model dengan data training\n",
    "model.fit(X_train, y_train)"
   ]
  },
  {
   "cell_type": "code",
   "execution_count": 445,
   "metadata": {},
   "outputs": [
    {
     "data": {
      "text/plain": [
       "array([1, 1, 2, 1, 0, 1, 0, 1, 2, 1, 3, 3, 3, 1, 1, 0, 0, 1, 3, 1, 1, 1,\n",
       "       0, 3, 2, 0, 0, 2, 0, 2, 0, 3, 0, 2, 0, 3, 0, 0, 2, 2, 2, 1, 2, 3,\n",
       "       2, 2, 3, 0, 0, 3, 3, 3, 1, 2, 1, 1, 0, 0, 2, 0, 0, 0, 1, 2, 2, 2,\n",
       "       2, 2, 0, 0, 2, 0, 0, 3, 0, 2, 2, 3, 1, 1, 2, 3, 3, 1, 0, 1, 1, 3,\n",
       "       3, 1, 1, 1, 2, 2, 0, 3, 2, 3, 1, 0, 1, 1, 0, 1, 1, 3, 1, 1, 2, 0,\n",
       "       3, 0, 1, 0, 3, 2, 2, 3, 0, 1, 0, 0, 0, 2, 1, 2, 2, 2, 2, 2, 2, 0,\n",
       "       3, 1, 3, 1, 2, 1, 1, 1, 3, 0, 2, 1, 1, 2, 2, 1, 1, 2, 0, 1, 2, 2,\n",
       "       1, 2, 2, 1, 2, 0, 0, 3, 1, 0, 0, 0, 2, 1, 3, 3, 0, 1, 3, 2, 0, 1,\n",
       "       2, 0, 0, 0, 0, 0, 0, 1, 1, 2, 2, 1, 2, 2, 3, 3, 2, 2, 3, 2, 2, 3,\n",
       "       0, 2, 3, 1, 2, 3, 1, 3, 3, 1, 2, 0, 3, 3, 2, 3, 2, 3, 3, 3, 1, 3,\n",
       "       3, 3, 3, 0, 0, 0, 1, 2, 0, 1, 2, 1, 2, 2, 0, 2, 3, 2, 2, 3, 1, 3,\n",
       "       0, 0, 3, 2, 0, 3, 2, 3, 0, 1, 1, 3, 3, 3, 0, 2, 0, 3, 1, 2, 0, 2,\n",
       "       2, 2, 3, 0, 3, 3, 1, 0, 1, 0, 1, 2, 2, 2, 2, 3, 3, 0, 1, 2, 1, 3,\n",
       "       0, 1, 2, 0, 2, 0, 1, 1, 2, 2, 2, 2, 0, 3, 2, 0, 1, 0, 1, 1, 3, 3,\n",
       "       0, 3, 3, 1, 1, 2, 3, 3, 2, 1, 2, 1, 1, 2, 0, 2, 0, 2, 3, 3, 1, 1,\n",
       "       1, 2, 0, 1, 3, 1, 1, 0, 0, 2, 2, 1, 2, 3, 3, 2, 0, 1, 3, 1, 0, 1,\n",
       "       1, 1, 2, 2, 1, 3, 3, 3, 3, 1, 1, 1, 2, 0, 3, 0, 1, 3, 1, 2, 0, 3,\n",
       "       1, 2, 3, 2, 3, 0, 1, 0, 1, 2, 0, 0, 0, 0, 1, 3, 3, 3, 3, 0, 2, 1,\n",
       "       3, 2, 0, 1, 3, 1, 3, 1, 0, 1, 1, 0, 0, 1, 1, 3, 3, 3, 2, 2, 1, 0,\n",
       "       3, 1, 1, 2, 1, 1, 1, 1, 2, 3, 1, 3, 0, 2, 1, 1, 3, 2, 3, 2, 2, 1,\n",
       "       2, 3, 3, 2, 3, 2, 1, 3, 3, 1, 3, 2, 0, 3, 1, 3, 3, 0, 2, 1, 2, 1,\n",
       "       2, 0, 3, 0, 3, 3, 3, 2, 1, 3, 1, 0, 1, 3, 2, 0, 1, 0, 2, 0, 2, 0,\n",
       "       0, 3, 2, 1, 2, 2, 2, 3, 2, 3, 3, 1, 1, 0, 1, 2], dtype=int64)"
      ]
     },
     "execution_count": 445,
     "metadata": {},
     "output_type": "execute_result"
    }
   ],
   "source": [
    "# Melakukan prediksi class menggunakan atribut di data testing\n",
    "y_pred = model.predict(X_test)\n",
    "y_pred"
   ]
  },
  {
   "cell_type": "code",
   "execution_count": 446,
   "metadata": {},
   "outputs": [
    {
     "name": "stdout",
     "output_type": "stream",
     "text": [
      "Akurasi Model : 79.6 %.\n"
     ]
    }
   ],
   "source": [
    "# mengecek akurasi prediksi\n",
    "acc_nb = accuracy_score(y_pred, y_test)*100\n",
    "print('Akurasi Model : ' + str(round(acc_nb, 2)) + ' %.')"
   ]
  },
  {
   "cell_type": "code",
   "execution_count": 447,
   "metadata": {},
   "outputs": [
    {
     "name": "stdout",
     "output_type": "stream",
     "text": [
      "              precision    recall  f1-score   support\n",
      "\n",
      "           0       0.83      0.87      0.85       111\n",
      "           1       0.69      0.69      0.69       135\n",
      "           2       0.77      0.71      0.74       133\n",
      "           3       0.90      0.94      0.92       121\n",
      "\n",
      "    accuracy                           0.80       500\n",
      "   macro avg       0.80      0.80      0.80       500\n",
      "weighted avg       0.79      0.80      0.79       500\n",
      "\n"
     ]
    }
   ],
   "source": [
    "# report keseluruhan\n",
    "report = classification_report(y_pred, y_test)\n",
    "print(report)"
   ]
  },
  {
   "cell_type": "code",
   "execution_count": 448,
   "metadata": {},
   "outputs": [
    {
     "data": {
      "text/plain": [
       "['model_nb.pkl']"
      ]
     },
     "execution_count": 448,
     "metadata": {},
     "output_type": "execute_result"
    }
   ],
   "source": [
    "# save Model\n",
    "joblib.dump(model, 'model_nb.pkl')"
   ]
  },
  {
   "attachments": {},
   "cell_type": "markdown",
   "metadata": {},
   "source": [
    "## **Training Menggunakan Decision Tree**"
   ]
  },
  {
   "cell_type": "code",
   "execution_count": 449,
   "metadata": {},
   "outputs": [
    {
     "data": {
      "text/html": [
       "<style>#sk-container-id-53 {color: black;background-color: white;}#sk-container-id-53 pre{padding: 0;}#sk-container-id-53 div.sk-toggleable {background-color: white;}#sk-container-id-53 label.sk-toggleable__label {cursor: pointer;display: block;width: 100%;margin-bottom: 0;padding: 0.3em;box-sizing: border-box;text-align: center;}#sk-container-id-53 label.sk-toggleable__label-arrow:before {content: \"▸\";float: left;margin-right: 0.25em;color: #696969;}#sk-container-id-53 label.sk-toggleable__label-arrow:hover:before {color: black;}#sk-container-id-53 div.sk-estimator:hover label.sk-toggleable__label-arrow:before {color: black;}#sk-container-id-53 div.sk-toggleable__content {max-height: 0;max-width: 0;overflow: hidden;text-align: left;background-color: #f0f8ff;}#sk-container-id-53 div.sk-toggleable__content pre {margin: 0.2em;color: black;border-radius: 0.25em;background-color: #f0f8ff;}#sk-container-id-53 input.sk-toggleable__control:checked~div.sk-toggleable__content {max-height: 200px;max-width: 100%;overflow: auto;}#sk-container-id-53 input.sk-toggleable__control:checked~label.sk-toggleable__label-arrow:before {content: \"▾\";}#sk-container-id-53 div.sk-estimator input.sk-toggleable__control:checked~label.sk-toggleable__label {background-color: #d4ebff;}#sk-container-id-53 div.sk-label input.sk-toggleable__control:checked~label.sk-toggleable__label {background-color: #d4ebff;}#sk-container-id-53 input.sk-hidden--visually {border: 0;clip: rect(1px 1px 1px 1px);clip: rect(1px, 1px, 1px, 1px);height: 1px;margin: -1px;overflow: hidden;padding: 0;position: absolute;width: 1px;}#sk-container-id-53 div.sk-estimator {font-family: monospace;background-color: #f0f8ff;border: 1px dotted black;border-radius: 0.25em;box-sizing: border-box;margin-bottom: 0.5em;}#sk-container-id-53 div.sk-estimator:hover {background-color: #d4ebff;}#sk-container-id-53 div.sk-parallel-item::after {content: \"\";width: 100%;border-bottom: 1px solid gray;flex-grow: 1;}#sk-container-id-53 div.sk-label:hover label.sk-toggleable__label {background-color: #d4ebff;}#sk-container-id-53 div.sk-serial::before {content: \"\";position: absolute;border-left: 1px solid gray;box-sizing: border-box;top: 0;bottom: 0;left: 50%;z-index: 0;}#sk-container-id-53 div.sk-serial {display: flex;flex-direction: column;align-items: center;background-color: white;padding-right: 0.2em;padding-left: 0.2em;position: relative;}#sk-container-id-53 div.sk-item {position: relative;z-index: 1;}#sk-container-id-53 div.sk-parallel {display: flex;align-items: stretch;justify-content: center;background-color: white;position: relative;}#sk-container-id-53 div.sk-item::before, #sk-container-id-53 div.sk-parallel-item::before {content: \"\";position: absolute;border-left: 1px solid gray;box-sizing: border-box;top: 0;bottom: 0;left: 50%;z-index: -1;}#sk-container-id-53 div.sk-parallel-item {display: flex;flex-direction: column;z-index: 1;position: relative;background-color: white;}#sk-container-id-53 div.sk-parallel-item:first-child::after {align-self: flex-end;width: 50%;}#sk-container-id-53 div.sk-parallel-item:last-child::after {align-self: flex-start;width: 50%;}#sk-container-id-53 div.sk-parallel-item:only-child::after {width: 0;}#sk-container-id-53 div.sk-dashed-wrapped {border: 1px dashed gray;margin: 0 0.4em 0.5em 0.4em;box-sizing: border-box;padding-bottom: 0.4em;background-color: white;}#sk-container-id-53 div.sk-label label {font-family: monospace;font-weight: bold;display: inline-block;line-height: 1.2em;}#sk-container-id-53 div.sk-label-container {text-align: center;}#sk-container-id-53 div.sk-container {/* jupyter's `normalize.less` sets `[hidden] { display: none; }` but bootstrap.min.css set `[hidden] { display: none !important; }` so we also need the `!important` here to be able to override the default hidden behavior on the sphinx rendered scikit-learn.org. See: https://github.com/scikit-learn/scikit-learn/issues/21755 */display: inline-block !important;position: relative;}#sk-container-id-53 div.sk-text-repr-fallback {display: none;}</style><div id=\"sk-container-id-53\" class=\"sk-top-container\"><div class=\"sk-text-repr-fallback\"><pre>DecisionTreeClassifier()</pre><b>In a Jupyter environment, please rerun this cell to show the HTML representation or trust the notebook. <br />On GitHub, the HTML representation is unable to render, please try loading this page with nbviewer.org.</b></div><div class=\"sk-container\" hidden><div class=\"sk-item\"><div class=\"sk-estimator sk-toggleable\"><input class=\"sk-toggleable__control sk-hidden--visually\" id=\"sk-estimator-id-53\" type=\"checkbox\" checked><label for=\"sk-estimator-id-53\" class=\"sk-toggleable__label sk-toggleable__label-arrow\">DecisionTreeClassifier</label><div class=\"sk-toggleable__content\"><pre>DecisionTreeClassifier()</pre></div></div></div></div></div>"
      ],
      "text/plain": [
       "DecisionTreeClassifier()"
      ]
     },
     "execution_count": 449,
     "metadata": {},
     "output_type": "execute_result"
    }
   ],
   "source": [
    "# Membuat Decision Tree model\n",
    "model = DecisionTreeClassifier()\n",
    "# Melatih model dengan data training\n",
    "model.fit(X_train, y_train)"
   ]
  },
  {
   "cell_type": "code",
   "execution_count": 450,
   "metadata": {},
   "outputs": [
    {
     "data": {
      "text/plain": [
       "array([1, 1, 3, 1, 0, 1, 0, 1, 1, 0, 3, 3, 3, 1, 1, 0, 1, 1, 3, 0, 2, 1,\n",
       "       0, 3, 2, 0, 0, 2, 0, 2, 1, 3, 0, 2, 0, 3, 0, 0, 2, 1, 2, 1, 0, 3,\n",
       "       2, 2, 3, 0, 0, 3, 3, 3, 1, 2, 1, 0, 1, 0, 1, 0, 0, 0, 1, 2, 1, 2,\n",
       "       2, 2, 0, 0, 3, 0, 0, 3, 0, 2, 2, 3, 1, 1, 2, 3, 3, 1, 0, 1, 1, 3,\n",
       "       3, 1, 1, 0, 2, 1, 1, 3, 2, 2, 1, 0, 1, 0, 0, 2, 1, 2, 1, 1, 1, 0,\n",
       "       3, 1, 1, 1, 3, 2, 2, 3, 0, 1, 0, 0, 0, 1, 1, 2, 2, 1, 2, 2, 2, 0,\n",
       "       3, 0, 3, 1, 1, 1, 1, 2, 3, 0, 2, 0, 1, 3, 2, 1, 1, 2, 1, 1, 2, 2,\n",
       "       2, 3, 1, 1, 3, 0, 0, 3, 1, 0, 0, 0, 2, 1, 2, 3, 0, 1, 3, 1, 0, 0,\n",
       "       2, 0, 0, 0, 1, 0, 0, 0, 1, 2, 3, 1, 1, 2, 3, 2, 2, 2, 3, 2, 2, 3,\n",
       "       0, 2, 3, 1, 2, 3, 1, 3, 3, 2, 2, 0, 3, 3, 2, 3, 2, 2, 3, 3, 1, 2,\n",
       "       3, 3, 2, 1, 0, 0, 2, 1, 0, 1, 2, 0, 2, 2, 0, 2, 3, 2, 2, 3, 1, 3,\n",
       "       0, 0, 3, 2, 0, 3, 3, 3, 0, 2, 1, 3, 2, 2, 0, 2, 1, 3, 1, 2, 0, 3,\n",
       "       2, 2, 3, 0, 3, 3, 1, 1, 1, 0, 0, 2, 2, 2, 2, 3, 3, 0, 1, 1, 1, 3,\n",
       "       0, 1, 2, 0, 2, 0, 1, 2, 2, 3, 2, 2, 0, 3, 2, 0, 2, 0, 2, 0, 3, 2,\n",
       "       0, 3, 3, 0, 1, 2, 3, 3, 1, 1, 2, 2, 1, 2, 0, 0, 0, 1, 3, 3, 1, 1,\n",
       "       1, 1, 1, 1, 2, 1, 1, 0, 1, 1, 2, 2, 1, 3, 3, 2, 0, 3, 3, 2, 1, 0,\n",
       "       1, 1, 2, 2, 1, 3, 3, 3, 3, 1, 1, 3, 2, 0, 3, 0, 0, 2, 1, 2, 0, 3,\n",
       "       1, 1, 3, 2, 3, 1, 1, 0, 2, 2, 0, 0, 0, 0, 2, 3, 3, 3, 3, 0, 2, 1,\n",
       "       3, 2, 0, 1, 3, 1, 3, 2, 0, 0, 1, 1, 0, 2, 2, 3, 3, 3, 2, 1, 1, 0,\n",
       "       3, 1, 2, 2, 1, 2, 1, 2, 2, 3, 3, 3, 0, 2, 1, 1, 3, 3, 3, 2, 3, 2,\n",
       "       2, 3, 3, 2, 3, 2, 1, 2, 3, 1, 3, 2, 0, 3, 1, 3, 3, 0, 3, 1, 2, 1,\n",
       "       2, 0, 3, 0, 3, 3, 3, 2, 1, 3, 1, 0, 1, 3, 3, 0, 1, 0, 1, 0, 1, 0,\n",
       "       0, 3, 2, 1, 2, 3, 2, 2, 1, 3, 3, 1, 1, 0, 1, 2], dtype=int64)"
      ]
     },
     "execution_count": 450,
     "metadata": {},
     "output_type": "execute_result"
    }
   ],
   "source": [
    "# Melakukan prediksi class menggunakan atribut di data testing\n",
    "y_pred = model.predict(X_test)\n",
    "y_pred"
   ]
  },
  {
   "cell_type": "code",
   "execution_count": 451,
   "metadata": {},
   "outputs": [
    {
     "name": "stdout",
     "output_type": "stream",
     "text": [
      "Akurasi Model : 81.8 %.\n"
     ]
    }
   ],
   "source": [
    "# mengecek akurasi prediksi\n",
    "acc_dt = accuracy_score(y_pred, y_test)*100\n",
    "print('Akurasi Model : ' + str(round(acc_dt, 2)) + ' %.')"
   ]
  },
  {
   "cell_type": "code",
   "execution_count": 452,
   "metadata": {},
   "outputs": [
    {
     "name": "stdout",
     "output_type": "stream",
     "text": [
      "              precision    recall  f1-score   support\n",
      "\n",
      "           0       0.86      0.89      0.88       113\n",
      "           1       0.76      0.76      0.76       134\n",
      "           2       0.77      0.73      0.75       129\n",
      "           3       0.88      0.90      0.89       124\n",
      "\n",
      "    accuracy                           0.82       500\n",
      "   macro avg       0.82      0.82      0.82       500\n",
      "weighted avg       0.82      0.82      0.82       500\n",
      "\n"
     ]
    }
   ],
   "source": [
    "# report keseluruhan\n",
    "report = classification_report(y_pred, y_test)\n",
    "print(report)"
   ]
  },
  {
   "cell_type": "code",
   "execution_count": 453,
   "metadata": {},
   "outputs": [
    {
     "data": {
      "text/plain": [
       "['model_dt.pkl']"
      ]
     },
     "execution_count": 453,
     "metadata": {},
     "output_type": "execute_result"
    }
   ],
   "source": [
    "# save Model\n",
    "joblib.dump(model, 'model_dt.pkl')"
   ]
  },
  {
   "attachments": {},
   "cell_type": "markdown",
   "metadata": {},
   "source": [
    "## **Training Menggunakan Random Forest**"
   ]
  },
  {
   "cell_type": "code",
   "execution_count": 454,
   "metadata": {},
   "outputs": [
    {
     "data": {
      "text/html": [
       "<style>#sk-container-id-54 {color: black;background-color: white;}#sk-container-id-54 pre{padding: 0;}#sk-container-id-54 div.sk-toggleable {background-color: white;}#sk-container-id-54 label.sk-toggleable__label {cursor: pointer;display: block;width: 100%;margin-bottom: 0;padding: 0.3em;box-sizing: border-box;text-align: center;}#sk-container-id-54 label.sk-toggleable__label-arrow:before {content: \"▸\";float: left;margin-right: 0.25em;color: #696969;}#sk-container-id-54 label.sk-toggleable__label-arrow:hover:before {color: black;}#sk-container-id-54 div.sk-estimator:hover label.sk-toggleable__label-arrow:before {color: black;}#sk-container-id-54 div.sk-toggleable__content {max-height: 0;max-width: 0;overflow: hidden;text-align: left;background-color: #f0f8ff;}#sk-container-id-54 div.sk-toggleable__content pre {margin: 0.2em;color: black;border-radius: 0.25em;background-color: #f0f8ff;}#sk-container-id-54 input.sk-toggleable__control:checked~div.sk-toggleable__content {max-height: 200px;max-width: 100%;overflow: auto;}#sk-container-id-54 input.sk-toggleable__control:checked~label.sk-toggleable__label-arrow:before {content: \"▾\";}#sk-container-id-54 div.sk-estimator input.sk-toggleable__control:checked~label.sk-toggleable__label {background-color: #d4ebff;}#sk-container-id-54 div.sk-label input.sk-toggleable__control:checked~label.sk-toggleable__label {background-color: #d4ebff;}#sk-container-id-54 input.sk-hidden--visually {border: 0;clip: rect(1px 1px 1px 1px);clip: rect(1px, 1px, 1px, 1px);height: 1px;margin: -1px;overflow: hidden;padding: 0;position: absolute;width: 1px;}#sk-container-id-54 div.sk-estimator {font-family: monospace;background-color: #f0f8ff;border: 1px dotted black;border-radius: 0.25em;box-sizing: border-box;margin-bottom: 0.5em;}#sk-container-id-54 div.sk-estimator:hover {background-color: #d4ebff;}#sk-container-id-54 div.sk-parallel-item::after {content: \"\";width: 100%;border-bottom: 1px solid gray;flex-grow: 1;}#sk-container-id-54 div.sk-label:hover label.sk-toggleable__label {background-color: #d4ebff;}#sk-container-id-54 div.sk-serial::before {content: \"\";position: absolute;border-left: 1px solid gray;box-sizing: border-box;top: 0;bottom: 0;left: 50%;z-index: 0;}#sk-container-id-54 div.sk-serial {display: flex;flex-direction: column;align-items: center;background-color: white;padding-right: 0.2em;padding-left: 0.2em;position: relative;}#sk-container-id-54 div.sk-item {position: relative;z-index: 1;}#sk-container-id-54 div.sk-parallel {display: flex;align-items: stretch;justify-content: center;background-color: white;position: relative;}#sk-container-id-54 div.sk-item::before, #sk-container-id-54 div.sk-parallel-item::before {content: \"\";position: absolute;border-left: 1px solid gray;box-sizing: border-box;top: 0;bottom: 0;left: 50%;z-index: -1;}#sk-container-id-54 div.sk-parallel-item {display: flex;flex-direction: column;z-index: 1;position: relative;background-color: white;}#sk-container-id-54 div.sk-parallel-item:first-child::after {align-self: flex-end;width: 50%;}#sk-container-id-54 div.sk-parallel-item:last-child::after {align-self: flex-start;width: 50%;}#sk-container-id-54 div.sk-parallel-item:only-child::after {width: 0;}#sk-container-id-54 div.sk-dashed-wrapped {border: 1px dashed gray;margin: 0 0.4em 0.5em 0.4em;box-sizing: border-box;padding-bottom: 0.4em;background-color: white;}#sk-container-id-54 div.sk-label label {font-family: monospace;font-weight: bold;display: inline-block;line-height: 1.2em;}#sk-container-id-54 div.sk-label-container {text-align: center;}#sk-container-id-54 div.sk-container {/* jupyter's `normalize.less` sets `[hidden] { display: none; }` but bootstrap.min.css set `[hidden] { display: none !important; }` so we also need the `!important` here to be able to override the default hidden behavior on the sphinx rendered scikit-learn.org. See: https://github.com/scikit-learn/scikit-learn/issues/21755 */display: inline-block !important;position: relative;}#sk-container-id-54 div.sk-text-repr-fallback {display: none;}</style><div id=\"sk-container-id-54\" class=\"sk-top-container\"><div class=\"sk-text-repr-fallback\"><pre>RandomForestClassifier(random_state=1)</pre><b>In a Jupyter environment, please rerun this cell to show the HTML representation or trust the notebook. <br />On GitHub, the HTML representation is unable to render, please try loading this page with nbviewer.org.</b></div><div class=\"sk-container\" hidden><div class=\"sk-item\"><div class=\"sk-estimator sk-toggleable\"><input class=\"sk-toggleable__control sk-hidden--visually\" id=\"sk-estimator-id-54\" type=\"checkbox\" checked><label for=\"sk-estimator-id-54\" class=\"sk-toggleable__label sk-toggleable__label-arrow\">RandomForestClassifier</label><div class=\"sk-toggleable__content\"><pre>RandomForestClassifier(random_state=1)</pre></div></div></div></div></div>"
      ],
      "text/plain": [
       "RandomForestClassifier(random_state=1)"
      ]
     },
     "execution_count": 454,
     "metadata": {},
     "output_type": "execute_result"
    }
   ],
   "source": [
    "# Membuat Random Forest model\n",
    "model = RandomForestClassifier(n_estimators=100, random_state=1)\n",
    "# Melatih model dengan data training\n",
    "model.fit(X_train, y_train)"
   ]
  },
  {
   "cell_type": "code",
   "execution_count": 455,
   "metadata": {},
   "outputs": [
    {
     "data": {
      "text/plain": [
       "array([1, 1, 2, 1, 0, 1, 0, 1, 1, 0, 3, 3, 3, 0, 1, 0, 0, 1, 3, 1, 1, 1,\n",
       "       0, 3, 2, 0, 0, 2, 0, 2, 0, 3, 0, 2, 0, 3, 0, 0, 2, 2, 2, 1, 1, 3,\n",
       "       2, 2, 3, 0, 0, 3, 3, 3, 1, 2, 1, 1, 0, 0, 2, 0, 0, 0, 1, 2, 2, 3,\n",
       "       2, 2, 0, 0, 3, 0, 0, 3, 0, 2, 2, 3, 1, 1, 2, 3, 3, 1, 0, 1, 1, 3,\n",
       "       3, 1, 1, 1, 2, 2, 0, 3, 2, 3, 1, 0, 1, 1, 0, 1, 1, 2, 1, 1, 1, 0,\n",
       "       3, 1, 1, 0, 3, 2, 2, 3, 0, 1, 0, 0, 0, 2, 1, 2, 2, 2, 2, 2, 2, 0,\n",
       "       3, 0, 3, 1, 2, 1, 1, 2, 3, 0, 2, 0, 1, 3, 1, 1, 1, 2, 1, 1, 2, 2,\n",
       "       2, 2, 1, 1, 2, 0, 0, 3, 1, 0, 0, 0, 2, 1, 2, 3, 0, 1, 3, 2, 0, 1,\n",
       "       2, 0, 0, 0, 0, 0, 0, 0, 2, 2, 3, 1, 2, 2, 3, 2, 2, 2, 3, 2, 2, 3,\n",
       "       0, 2, 3, 1, 2, 3, 1, 3, 3, 2, 2, 0, 3, 3, 2, 3, 2, 2, 3, 3, 1, 3,\n",
       "       3, 3, 2, 1, 0, 0, 1, 1, 0, 1, 2, 0, 2, 2, 0, 2, 3, 2, 2, 3, 1, 3,\n",
       "       0, 0, 3, 2, 0, 3, 3, 3, 0, 1, 1, 3, 3, 3, 0, 3, 1, 3, 1, 3, 0, 3,\n",
       "       2, 2, 3, 0, 3, 3, 1, 0, 1, 0, 1, 2, 2, 2, 2, 3, 3, 0, 1, 2, 1, 3,\n",
       "       0, 1, 2, 0, 2, 0, 1, 1, 2, 2, 1, 2, 0, 3, 2, 0, 2, 0, 1, 0, 3, 3,\n",
       "       0, 3, 3, 1, 1, 3, 3, 3, 2, 1, 2, 1, 1, 2, 0, 1, 0, 2, 3, 3, 1, 1,\n",
       "       1, 1, 1, 1, 2, 1, 1, 0, 0, 1, 2, 2, 1, 3, 3, 2, 0, 2, 3, 1, 0, 1,\n",
       "       1, 1, 2, 2, 1, 3, 3, 3, 2, 1, 1, 2, 2, 0, 3, 0, 0, 3, 1, 2, 0, 3,\n",
       "       1, 1, 3, 2, 3, 0, 1, 0, 1, 1, 0, 0, 0, 0, 2, 3, 3, 3, 3, 0, 2, 1,\n",
       "       3, 2, 0, 1, 3, 1, 3, 2, 0, 0, 1, 1, 0, 2, 1, 3, 3, 3, 2, 1, 1, 0,\n",
       "       3, 1, 1, 2, 1, 1, 1, 2, 2, 3, 2, 3, 0, 2, 1, 1, 3, 2, 3, 2, 3, 1,\n",
       "       2, 3, 3, 2, 3, 1, 1, 2, 3, 1, 3, 2, 0, 3, 1, 3, 3, 0, 2, 1, 2, 1,\n",
       "       2, 0, 3, 0, 3, 3, 3, 3, 1, 3, 1, 0, 0, 3, 3, 0, 1, 0, 2, 0, 1, 0,\n",
       "       0, 3, 2, 1, 2, 2, 3, 3, 1, 3, 3, 1, 1, 0, 1, 2], dtype=int64)"
      ]
     },
     "execution_count": 455,
     "metadata": {},
     "output_type": "execute_result"
    }
   ],
   "source": [
    "# Melakukan prediksi class menggunakan atribut di data testing\n",
    "y_pred = model.predict(X_test)\n",
    "y_pred"
   ]
  },
  {
   "cell_type": "code",
   "execution_count": 456,
   "metadata": {},
   "outputs": [
    {
     "name": "stdout",
     "output_type": "stream",
     "text": [
      "Akurasi Model : 88.0 %.\n"
     ]
    }
   ],
   "source": [
    "# mengecek akurasi prediksi\n",
    "acc_rf = accuracy_score(y_pred, y_test)*100\n",
    "print('Akurasi Model : ' + str(round(acc_rf, 2)) + ' %.')"
   ]
  },
  {
   "cell_type": "code",
   "execution_count": 457,
   "metadata": {},
   "outputs": [
    {
     "name": "stdout",
     "output_type": "stream",
     "text": [
      "              precision    recall  f1-score   support\n",
      "\n",
      "           0       0.91      0.92      0.91       115\n",
      "           1       0.84      0.83      0.83       135\n",
      "           2       0.84      0.83      0.84       124\n",
      "           3       0.94      0.94      0.94       126\n",
      "\n",
      "    accuracy                           0.88       500\n",
      "   macro avg       0.88      0.88      0.88       500\n",
      "weighted avg       0.88      0.88      0.88       500\n",
      "\n"
     ]
    }
   ],
   "source": [
    "# report keseluruhan\n",
    "report = classification_report(y_pred, y_test)\n",
    "print(report)"
   ]
  },
  {
   "cell_type": "code",
   "execution_count": 458,
   "metadata": {},
   "outputs": [
    {
     "data": {
      "text/plain": [
       "['model_rf.pkl']"
      ]
     },
     "execution_count": 458,
     "metadata": {},
     "output_type": "execute_result"
    }
   ],
   "source": [
    "# save Model\n",
    "joblib.dump(model, 'model_rf.pkl')"
   ]
  },
  {
   "attachments": {},
   "cell_type": "markdown",
   "metadata": {},
   "source": [
    "## **Perbandingan Akurasi Model**"
   ]
  },
  {
   "cell_type": "code",
   "execution_count": 459,
   "metadata": {},
   "outputs": [
    {
     "data": {
      "image/png": "[encoded data removed]",
      "text/plain": [
       "<Figure size 640x480 with 1 Axes>"
      ]
     },
     "metadata": {},
     "output_type": "display_data"
    }
   ],
   "source": [
    "model = ['K-NN', 'Naive bayes', 'Decision tree', 'Regression Forest']\n",
    "akurasi = [acc_knn, acc_nb, acc_dt, acc_rf]\n",
    "\n",
    "plt.bar(model, akurasi)\n",
    "plt.xlabel('Model')\n",
    "plt.ylabel('Akurasi')\n",
    "plt.title('Perbandingan Akurasi Model')\n",
    "plt.show()\n"
   ]
  }
 ],
 "metadata": {
  "kernelspec": {
   "display_name": "env",
   "language": "python",
   "name": "python3"
  },
  "language_info": {
   "codemirror_mode": {
    "name": "ipython",
    "version": 3
   },
   "file_extension": ".py",
   "mimetype": "text/x-python",
   "name": "python",
   "nbconvert_exporter": "python",
   "pygments_lexer": "ipython3",
   "version": "3.11.3"
  },
  "orig_nbformat": 4
 },
 "nbformat": 4,
 "nbformat_minor": 2
}
